{
 "cells": [
  {
   "cell_type": "code",
   "execution_count": 3,
   "metadata": {},
   "outputs": [
    {
     "name": "stdout",
     "output_type": "stream",
     "text": [
      "[{\"name\": \"pizza\", \"calories\": \"Only available for premium subscribers.\", \"serving_size_g\": \"Only available for premium subscribers.\", \"fat_total_g\": 9.8, \"fat_saturated_g\": 4.5, \"protein_g\": \"Only available for premium subscribers.\", \"sodium_mg\": 587, \"potassium_mg\": 217, \"cholesterol_mg\": 16, \"carbohydrates_total_g\": 32.9, \"fiber_g\": 2.3, \"sugar_g\": 3.6}]\n"
     ]
    }
   ],
   "source": [
    "import requests\n",
    "api_key = \"dXqBwN7OX/SwZnocoYIrfw==J4rCrRIICM3i3nc6\"\n",
    "query = 'pizza'\n",
    "api_url = 'https://api.api-ninjas.com/v1/nutrition?query={}'.format(query)\n",
    "response = requests.get(api_url, headers={'X-Api-Key': api_key})\n",
    "if response.status_code == requests.codes.ok:\n",
    "    print(response.text)\n",
    "else:\n",
    "    print(\"Error:\", response.status_code, response.text)"
   ]
  },
  {
   "cell_type": "code",
   "execution_count": null,
   "metadata": {},
   "outputs": [],
   "source": []
  }
 ],
 "metadata": {
  "kernelspec": {
   "display_name": "calorie-calculator",
   "language": "python",
   "name": "python3"
  },
  "language_info": {
   "codemirror_mode": {
    "name": "ipython",
    "version": 3
   },
   "file_extension": ".py",
   "mimetype": "text/x-python",
   "name": "python",
   "nbconvert_exporter": "python",
   "pygments_lexer": "ipython3",
   "version": "3.12.2"
  }
 },
 "nbformat": 4,
 "nbformat_minor": 2
}
